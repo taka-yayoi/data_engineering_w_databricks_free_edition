{
 "cells": [
  {
   "cell_type": "markdown",
   "metadata": {
    "application/vnd.databricks.v1+cell": {
     "cellMetadata": {},
     "inputWidgets": {},
     "nuid": "42d2f077-7917-423b-ab42-4121ab5d40f4",
     "showTitle": false,
     "tableResultSettingsMap": {},
     "title": ""
    }
   },
   "source": [
    "# はじめてのジョブ実行\n",
    "\n",
    "先ほどは手動で個々のノートブックを実行してタスクを達成しました。開発フェーズはこれで問題ありませんが、ロジックが固まったら自動で処理が実行されるようにすべきです。そのための機能が[Databricksワークフロー(ジョブ)](https://learn.microsoft.com/ja-jp/azure/databricks/jobs/)です。\n",
    "\n",
    "Databricksでジョブを構成するのは非常に簡単です。前のハンズオンで使用したノートブックをそのままジョブ化することができます。"
   ]
  },
  {
   "cell_type": "markdown",
   "metadata": {
    "application/vnd.databricks.v1+cell": {
     "cellMetadata": {},
     "inputWidgets": {},
     "nuid": "62b8d704-acdb-42a0-be53-9e71c59f7631",
     "showTitle": false,
     "tableResultSettingsMap": {},
     "title": ""
    }
   },
   "source": [
    "## ジョブの作成\n",
    "\n",
    "これでジョブを作成する準備が整いました。サイドメニューから**ジョブとパイプライン**にアクセスして、**作成 > ジョブ**をクリックします。\n",
    "\n",
    "![](img/job1.png)\n",
    "\n",
    "ジョブは複数のタスクから構成することができ、タスクにはノートブックやダッシュボードなどを指定することができます。ここでは、上で作成した2つのノートブックをタスクとして指定します。\n",
    "\n",
    "**ノートブック**をクリックしてノートブックタスクを追加します。\n",
    "\n",
    "![](img/job3.png)\n",
    "\n",
    "**パス**をクリックして上の`1. データ取り込み`ノートブックを選択します。**最近使用したアイテム**タブに先ほどのノートブックが表示されているはずです。\n",
    "\n",
    "![job4.png](img/job4.png)\n",
    "\n",
    "![job5.png](img/job5.png)\n",
    "\n",
    "タスク名は英数字とアンダースコアのみが許可されるので、`data_retrieval`といった名前にして**タスクを作成**をクリックすると、1つ目のタスクが作成されます。\n",
    "\n",
    "![](img/job6.png)\n",
    "\n",
    "**タスクを追加 > ノートブック**をクリックして後段のタスクを作成します。\n",
    "\n",
    "![](img/job7.png)\n",
    "\n",
    "今度はパスに`2. データ変換とロード`ノートブックを指定して、タスク名を`data_transform_load`として、**タスクを作成**をクリックします。\n",
    "\n",
    "![](img/job8.png)\n",
    "\n",
    "最後にジョブ名をわかりやすいものに変更して準備は完了です。\n",
    "\n",
    "![](img/job9.png)"
   ]
  },
  {
   "cell_type": "markdown",
   "metadata": {
    "application/vnd.databricks.v1+cell": {
     "cellMetadata": {},
     "inputWidgets": {},
     "nuid": "1f7cadb4-9528-49a5-93c0-cdc782fe2bba",
     "showTitle": false,
     "tableResultSettingsMap": {},
     "title": ""
    }
   },
   "source": [
    "## ジョブの実行\n",
    "\n",
    "ジョブは即時実行やスケジュール実行などが可能です。即時実行するには右上の**今すぐ実行**をクリックします。\n",
    "\n",
    "![](img/job10.png)\n",
    "\n",
    "**ジョブの実行**タブに切り替えると、実行中のジョブの進捗を確認できます。\n",
    "\n",
    "![](img/job11.png)\n",
    "\n",
    "問題がなければ処理は正常終了します。\n",
    "\n",
    "![](img/job12.png)\n",
    "\n",
    "データパイプラインによって作成されたテーブルをカタログエクスプローラで確認することができます。\n",
    "\n",
    "![](img/job13.png)\n",
    "\n",
    "非常にシンプルなデータパイプラインではありますが、これで一通りの実装とジョブとしての実行を体験することができました！"
   ]
  },
  {
   "cell_type": "markdown",
   "metadata": {
    "application/vnd.databricks.v1+cell": {
     "cellMetadata": {},
     "inputWidgets": {},
     "nuid": "354220b6-0df9-48ba-93a3-eca4287020f6",
     "showTitle": false,
     "tableResultSettingsMap": {},
     "title": ""
    }
   },
   "source": [
    "## ジョブのスケジュール実行\n",
    "\n",
    "通常、ジョブは夜間に実行するなどスケジューリングすることが一般的です。ジョブの**トリガーを追加**をクリックします。\n",
    "\n",
    "![Screenshot 2025-01-08 at 14.14.40.png](https://qiita-image-store.s3.ap-northeast-1.amazonaws.com/0/1168882/27b63971-ae35-4728-154f-d03b13923170.png)\n",
    "\n",
    "トリガータイプで**スケジュール済み**を選択します。\n",
    "\n",
    "![Screenshot 2025-01-08 at 14.15.26.png](https://qiita-image-store.s3.ap-northeast-1.amazonaws.com/0/1168882/a468ccfb-38e6-5d7d-3757-5672d73e3ae1.png)\n",
    "\n",
    "スケジュールのタイプで**Advanced**を選択し、タイムゾーンを**UTC+09:00**を選択して、数分後に実行されるように設定します。\n",
    "\n",
    "![Screenshot 2025-01-08 at 14.17.11.png](https://qiita-image-store.s3.ap-northeast-1.amazonaws.com/0/1168882/7274530f-c4b0-bcbb-1469-a341ac103a8c.png)\n",
    "\n",
    "設定した時間になるとジョブが起動します。\n",
    "\n",
    "![Screenshot 2025-01-08 at 14.18.28.png](https://qiita-image-store.s3.ap-northeast-1.amazonaws.com/0/1168882/b6e2be18-418d-70de-0ed7-ba8d060da795.png)\n",
    "\n",
    "**スケジューリングされたジョブは定期実行されるので、不要になったジョブは一時停止あるいは削除するようにしてください。**\n",
    "![Screenshot 2025-01-08 at 14.19.59.png](https://qiita-image-store.s3.ap-northeast-1.amazonaws.com/0/1168882/a3f61115-4a7a-6803-6da0-4a477789c405.png)"
   ]
  }
 ],
 "metadata": {
  "application/vnd.databricks.v1+notebook": {
   "computePreferences": null,
   "dashboards": [],
   "environmentMetadata": null,
   "inputWidgetPreferences": null,
   "language": "python",
   "notebookMetadata": {
    "pythonIndentUnit": 4
   },
   "notebookName": "3. はじめてのジョブ実行",
   "widgets": {}
  },
  "language_info": {
   "name": "python"
  }
 },
 "nbformat": 4,
 "nbformat_minor": 0
}
