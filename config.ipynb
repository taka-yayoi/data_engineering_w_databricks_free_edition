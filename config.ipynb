{
 "cells": [
  {
   "cell_type": "code",
   "execution_count": 0,
   "metadata": {
    "application/vnd.databricks.v1+cell": {
     "cellMetadata": {},
     "inputWidgets": {},
     "nuid": "9a320c4b-a793-4451-89a5-283089e3a65c",
     "showTitle": false,
     "tableResultSettingsMap": {},
     "title": ""
    }
   },
   "outputs": [],
   "source": [
    "# カタログ名\n",
    "CATALOG_NAME = \"workspace\"\n",
    "\n",
    "# ボリューム名\n",
    "VOLUME_NAME = \"de_volume\"\n",
    "\n",
    "print(f\"ハンズオンで使用するカタログは {CATALOG_NAME} です。\")\n",
    "print(f\"ハンズオンで使用するボリュームは {VOLUME_NAME} です。\")"
   ]
  }
 ],
 "metadata": {
  "application/vnd.databricks.v1+notebook": {
   "computePreferences": null,
   "dashboards": [],
   "environmentMetadata": null,
   "inputWidgetPreferences": null,
   "language": "python",
   "notebookMetadata": {
    "pythonIndentUnit": 4
   },
   "notebookName": "config",
   "widgets": {}
  },
  "language_info": {
   "name": "python"
  }
 },
 "nbformat": 4,
 "nbformat_minor": 0
}
