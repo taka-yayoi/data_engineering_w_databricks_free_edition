{
 "cells": [
  {
   "cell_type": "markdown",
   "metadata": {
    "application/vnd.databricks.v1+cell": {
     "cellMetadata": {
      "byteLimit": 2048000,
      "rowLimit": 10000
     },
     "inputWidgets": {},
     "nuid": "d589eacd-a51a-4937-8706-d00089f3cf28",
     "showTitle": false,
     "tableResultSettingsMap": {},
     "title": ""
    }
   },
   "source": [
    "# はじめてのDatabricks\n",
    "\n",
    "このノートブックではDatabricksの基本的な使い方をご説明します。\n",
    "\n",
    "[はじめてのDatabricks](https://qiita.com/taka_yayoi/items/8dc72d083edb879a5e5d)"
   ]
  },
  {
   "cell_type": "markdown",
   "metadata": {
    "application/vnd.databricks.v1+cell": {
     "cellMetadata": {
      "byteLimit": 2048000,
      "rowLimit": 10000
     },
     "inputWidgets": {},
     "nuid": "eda26722-dc48-4330-8b54-6bf0cc3fc5c5",
     "showTitle": false,
     "tableResultSettingsMap": {},
     "title": ""
    }
   },
   "source": [
    "## Databricksの使い方\n",
    "\n",
    "![how_to_use.png](./img/how_to_use.png \"how_to_use.png\")"
   ]
  },
  {
   "cell_type": "markdown",
   "metadata": {
    "application/vnd.databricks.v1+cell": {
     "cellMetadata": {
      "byteLimit": 2048000,
      "rowLimit": 10000
     },
     "inputWidgets": {},
     "nuid": "7f4d295c-b641-422f-98c2-65e2ed653895",
     "showTitle": false,
     "tableResultSettingsMap": {},
     "title": ""
    }
   },
   "source": [
    "## 画面の説明\n",
    "\n",
    "Databricksでデータ分析を行う際に頻繁に使用するのが、今画面に表示している**ノートブック**です。AIアシスタントをはじめ、分析者の生産性を高めるための工夫が随所に施されています。\n",
    "\n",
    "- [日本語設定](https://qiita.com/taka_yayoi/items/ff4127e0d632f5e02603)\n",
    "- [ワークスペース](https://docs.databricks.com/ja/workspace/index.html)\n",
    "- [ノートブック](https://docs.databricks.com/ja/notebooks/index.html)の作成"
   ]
  },
  {
   "cell_type": "markdown",
   "metadata": {
    "application/vnd.databricks.v1+cell": {
     "cellMetadata": {
      "byteLimit": 2048000,
      "rowLimit": 10000
     },
     "inputWidgets": {},
     "nuid": "4b2b9431-8902-4224-aec0-4af1d0f25608",
     "showTitle": false,
     "tableResultSettingsMap": {},
     "title": ""
    }
   },
   "source": [
    "## 計算資源(コンピュート)\n",
    "\n",
    "Databricksにおける計算資源は[コンピュート](https://docs.databricks.com/ja/compute/index.html)と呼ばれます。Databricksが全てを管理する**サーバレス**の計算資源も利用できます。\n",
    "\n",
    "- コンピュート\n",
    "- SQLウェアハウス\n",
    "\n",
    "ここでは、画面の右上にある**接続**ボタンをおして、**サーバレスコンピュート**を選択します。\n",
    "\n",
    "![](img/compute1.png)\n",
    "\n",
    "**接続済み**となれば計算資源を使用してプログラムを実行することができます。\n",
    "\n",
    "![](img/compute1.png)\n",
    "\n",
    "プログラムを実行するにはセルの左上にある**▶︎**ボタンをクリックします。"
   ]
  },
  {
   "cell_type": "code",
   "execution_count": 0,
   "metadata": {
    "application/vnd.databricks.v1+cell": {
     "cellMetadata": {
      "byteLimit": 2048000,
      "rowLimit": 10000
     },
     "inputWidgets": {},
     "nuid": "227689a0-3370-4838-a9ff-65f674f2070a",
     "showTitle": false,
     "tableResultSettingsMap": {},
     "title": ""
    }
   },
   "outputs": [],
   "source": [
    "# Databricksノートブックの動作確認用メッセージを出力\n",
    "print(\"Hello Databricks!\")"
   ]
  },
  {
   "cell_type": "markdown",
   "metadata": {
    "application/vnd.databricks.v1+cell": {
     "cellMetadata": {
      "byteLimit": 2048000,
      "rowLimit": 10000
     },
     "inputWidgets": {},
     "nuid": "6c862ece-5d8e-430a-9f40-e5156596fbea",
     "showTitle": false,
     "tableResultSettingsMap": {},
     "title": ""
    }
   },
   "source": [
    "## データの読み込み\n",
    "\n",
    "Databricksでは上述のコンピュートを用いて、ファイルやテーブルにアクセスします。SQLやPython、Rなどを活用することができます。Databricksノートブックではこれらの[複数の言語を混在](https://docs.databricks.com/ja/notebooks/notebooks-code.html#mix-languages)させることができます。\n",
    "\n",
    "![how_to_use2.png](./img/how_to_use2.png \"how_to_use2.png\")\n",
    "\n"
   ]
  },
  {
   "cell_type": "markdown",
   "metadata": {
    "application/vnd.databricks.v1+cell": {
     "cellMetadata": {
      "byteLimit": 2048000,
      "rowLimit": 10000
     },
     "inputWidgets": {},
     "nuid": "7bf7312b-fcd6-4c25-b78b-ae230823621b",
     "showTitle": false,
     "tableResultSettingsMap": {},
     "title": ""
    }
   },
   "source": [
    "AIアシスタントを活用してロジックを組み立てることができます。アシスタントを呼び出すにはセルの上にカーソルを合わせた際に表示される![assistant.png](./img/assistant.png \"assistant.png\")アイコンをクリックします。\n",
    "\n",
    "- [ビジュアライゼーション/データプロファイル](https://docs.databricks.com/ja/visualizations/index.html)\n",
    "- [AIアシスタント](https://docs.databricks.com/ja/notebooks/databricks-assistant-faq.html)\n",
    "\n",
    "プロンプト: `samples.tpch.ordersの中身を1000行表示`"
   ]
  },
  {
   "cell_type": "code",
   "execution_count": 0,
   "metadata": {
    "application/vnd.databricks.v1+cell": {
     "cellMetadata": {
      "byteLimit": 2048000,
      "rowLimit": 10000
     },
     "inputWidgets": {},
     "nuid": "bf9f45ae-db28-4e52-aafd-a75918555903",
     "showTitle": false,
     "tableResultSettingsMap": {},
     "title": ""
    }
   },
   "outputs": [],
   "source": []
  },
  {
   "cell_type": "markdown",
   "metadata": {
    "application/vnd.databricks.v1+cell": {
     "cellMetadata": {
      "byteLimit": 2048000,
      "rowLimit": 10000
     },
     "inputWidgets": {},
     "nuid": "5272baaa-2c9c-4148-9f86-4bff1d433339",
     "showTitle": false,
     "tableResultSettingsMap": {},
     "title": ""
    }
   },
   "source": [
    "**参考資料**\n",
    "\n",
    "- [Databricksドキュメント \\| Databricks on AWS](https://docs.databricks.com/ja/index.html)\n",
    "- [はじめてのDatabricks](https://qiita.com/taka_yayoi/items/8dc72d083edb879a5e5d)\n",
    "- [Databricksチュートリアル](https://qiita.com/taka_yayoi/items/4603091dd325c77d577f)\n",
    "- [Databricks記事のまとめページ\\(その1\\)](https://qiita.com/taka_yayoi/items/c6907e2b861cb1070f4d)\n",
    "- [Databricks記事のまとめページ\\(その2\\)](https://qiita.com/taka_yayoi/items/68fc3d67880d2dcb32bb)"
   ]
  }
 ],
 "metadata": {
  "application/vnd.databricks.v1+notebook": {
   "computePreferences": {
    "hardware": {
     "accelerator": null,
     "gpuPoolId": null,
     "memory": null
    }
   },
   "dashboards": [],
   "environmentMetadata": null,
   "inputWidgetPreferences": null,
   "language": "python",
   "notebookMetadata": {
    "pythonIndentUnit": 4
   },
   "notebookName": "0. はじめてのDatabricks",
   "widgets": {}
  },
  "language_info": {
   "name": "python"
  }
 },
 "nbformat": 4,
 "nbformat_minor": 0
}
